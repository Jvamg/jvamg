{
 "cells": [
  {
   "cell_type": "code",
   "execution_count": 3,
   "id": "3bb6bd8b",
   "metadata": {},
   "outputs": [
    {
     "data": {
      "text/plain": [
       "ticker                  51\n",
       "intervalo               51\n",
       "tipo_padrao             51\n",
       "data_inicio             51\n",
       "data_fim                51\n",
       "duracao_em_velas        51\n",
       "intervalo_em_minutos    51\n",
       "data_cabeca             51\n",
       "preco_cabeca            51\n",
       "idx_inicio              51\n",
       "idx_fim                 51\n",
       "label_humano            51\n",
       "dtype: int64"
      ]
     },
     "execution_count": 3,
     "metadata": {},
     "output_type": "execute_result"
    }
   ],
   "source": [
    "import pandas as pd\n",
    "dataset = pd.read_csv('filtered/dataset_labeled.csv')\n",
    "dataset.loc[dataset['label_humano'] == 1.0].count()"
   ]
  }
 ],
 "metadata": {
  "kernelspec": {
   "display_name": ".venv",
   "language": "python",
   "name": "python3"
  },
  "language_info": {
   "codemirror_mode": {
    "name": "ipython",
    "version": 3
   },
   "file_extension": ".py",
   "mimetype": "text/x-python",
   "name": "python",
   "nbconvert_exporter": "python",
   "pygments_lexer": "ipython3",
   "version": "3.11.9"
  }
 },
 "nbformat": 4,
 "nbformat_minor": 5
}
