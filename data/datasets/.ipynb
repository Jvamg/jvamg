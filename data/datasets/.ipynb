{
 "cells": [
  {
   "cell_type": "code",
   "execution_count": 1,
   "id": "3bb6bd8b",
   "metadata": {},
   "outputs": [
    {
     "data": {
      "text/plain": [
       "ticker                  188\n",
       "intervalo               188\n",
       "tipo_padrao             188\n",
       "data_inicio             188\n",
       "data_fim                188\n",
       "duracao_em_velas        188\n",
       "intervalo_em_minutos    188\n",
       "data_cabeca             188\n",
       "preco_cabeca            188\n",
       "label_humano            188\n",
       "dtype: int64"
      ]
     },
     "execution_count": 1,
     "metadata": {},
     "output_type": "execute_result"
    }
   ],
   "source": [
    "import pandas as pd\n",
    "dataset = pd.read_csv('filtered/dataset_corrected_final.csv')\n",
    "dataset.loc[dataset['label_humano'] == 1.0].count()"
   ]
  }
 ],
 "metadata": {
  "kernelspec": {
   "display_name": ".venv",
   "language": "python",
   "name": "python3"
  },
  "language_info": {
   "codemirror_mode": {
    "name": "ipython",
    "version": 3
   },
   "file_extension": ".py",
   "mimetype": "text/x-python",
   "name": "python",
   "nbconvert_exporter": "python",
   "pygments_lexer": "ipython3",
   "version": "3.11.9"
  }
 },
 "nbformat": 4,
 "nbformat_minor": 5
}
