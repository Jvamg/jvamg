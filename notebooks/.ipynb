{
 "cells": [
  {
   "cell_type": "code",
   "execution_count": 3,
   "id": "3bb6bd8b",
   "metadata": {},
   "outputs": [
    {
     "data": {
      "text/plain": [
       "ticker              1877\n",
       "timeframe           1877\n",
       "padrao_tipo         1877\n",
       "ombro1_idx          1877\n",
       "ombro1_preco        1877\n",
       "neckline1_idx       1877\n",
       "neckline1_preco     1877\n",
       "cabeca_idx          1877\n",
       "cabeca_preco        1877\n",
       "neckline2_idx       1877\n",
       "neckline2_preco     1877\n",
       "ombro2_idx          1877\n",
       "ombro2_preco        1877\n",
       "confianca_modelo    1877\n",
       "previsao_modelo     1877\n",
       "dtype: int64"
      ]
     },
     "execution_count": 3,
     "metadata": {},
     "output_type": "execute_result"
    }
   ],
   "source": [
    "import pandas as pd\n",
    "dataset = pd.read_csv('C:/Users/Jvamg/fds/krl/data/reports/resultado_predicoes_com_features.csv')\n",
    "dataset.loc[dataset['previsao_modelo'] == 1.0].count()"
   ]
  }
 ],
 "metadata": {
  "kernelspec": {
   "display_name": ".venv",
   "language": "python",
   "name": "python3"
  },
  "language_info": {
   "codemirror_mode": {
    "name": "ipython",
    "version": 3
   },
   "file_extension": ".py",
   "mimetype": "text/x-python",
   "name": "python",
   "nbconvert_exporter": "python",
   "pygments_lexer": "ipython3",
   "version": "3.11.9"
  }
 },
 "nbformat": 4,
 "nbformat_minor": 5
}
