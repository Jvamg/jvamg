{
  "cells": [
    {
      "cell_type": "code",
      "execution_count": 1,
      "metadata": {},
      "outputs": [
        {
          "name": "stdout",
          "output_type": "stream",
          "text": [
            "sys.path[0]: c:\\Users\\Jvamg\\fds\\krl\n"
          ]
        }
      ],
      "source": [
        "# Ensure project root ('src/' present) is on sys.path for imports\n",
        "import sys, os\n",
        "candidates = [\n",
        "    os.path.abspath(os.path.join(os.getcwd(), '..')),\n",
        "    os.path.abspath(os.getcwd()),\n",
        "]\n",
        "for p in candidates:\n",
        "    if os.path.exists(os.path.join(p, 'src')) and p not in sys.path:\n",
        "        sys.path.insert(0, p)\n",
        "print('sys.path[0]:', sys.path[0])\n"
      ]
    },
    {
      "cell_type": "code",
      "execution_count": 2,
      "metadata": {},
      "outputs": [
        {
          "name": "stdout",
          "output_type": "stream",
          "text": [
            "Pivots detected: 38\n",
            "Analyzing only the last 1 possible final pivots (from index 31).\n",
            "HNS candidates: 0\n",
            "Analyzing only the last 1 DT/DB candidates (from index 33).\n",
            "DTB debug: fail at valid_contexto_extremos (DB). lookback_bars=32 p1_preco=110.217462 ctx_high=112.292936 ctx_low=109.668183\n",
            "DT/DB accepted: 0\n",
            "TT/TB accepted: 1\n"
          ]
        },
        {
          "data": {
            "text/plain": [
              "(0, 0, 1)"
            ]
          },
          "execution_count": 2,
          "metadata": {},
          "output_type": "execute_result"
        }
      ],
      "source": [
        "# Demo: HNS, DT/DB, TT/TB detection on small samples\n",
        "import pandas as pd, numpy as np\n",
        "from src.patterns.OCOs.necklineconfirmada import (\n",
        "    identificar_padroes_hns,\n",
        "    identificar_padroes_double_top_bottom,\n",
        "    identificar_padroes_ttb,\n",
        "    validate_and_score_triple_pattern,\n",
        "    calcular_zigzag_oficial,\n",
        "    Config,\n",
        ")\n",
        "\n",
        "# Synthetic data (two assets, two timeframes simulated by different sampling)\n",
        "idx = pd.date_range('2024-01-01', periods=600, freq='H')\n",
        "close = np.cumsum(np.random.normal(0, 0.2, size=len(idx))) + 100\n",
        "\n",
        "df = pd.DataFrame({'open': close, 'high': close+0.4, 'low': close-0.4, 'close': close, 'volume': 1000}, index=idx)\n",
        "\n",
        "# Configure light ZigZag\n",
        "params = {'depth': 8, 'deviation': 1.2}\n",
        "\n",
        "pivots = calcular_zigzag_oficial(df, params['depth'], params['deviation'])\n",
        "print(f\"Pivots detected: {len(pivots)}\")\n",
        "\n",
        "# HNS\n",
        "padroes_hns = identificar_padroes_hns(pivots, df)\n",
        "print(f\"HNS candidates: {len(padroes_hns)}\")\n",
        "\n",
        "# DT/DB\n",
        "padroes_dtb = identificar_padroes_double_top_bottom(pivots, df)\n",
        "print(f\"DT/DB accepted: {len(padroes_dtb)}\")\n",
        "\n",
        "# TT/TB\n",
        "cands_ttb = identificar_padroes_ttb(pivots)\n",
        "accepted_ttb = []\n",
        "for c in cands_ttb:\n",
        "    v = validate_and_score_triple_pattern(c, df)\n",
        "    if v:\n",
        "        accepted_ttb.append(v)\n",
        "print(f\"TT/TB accepted: {len(accepted_ttb)}\")\n",
        "\n",
        "( len(padroes_hns), len(padroes_dtb), len(accepted_ttb) )\n"
      ]
    }
  ],
  "metadata": {
    "kernelspec": {
      "display_name": ".venv",
      "language": "python",
      "name": "python3"
    },
    "language_info": {
      "codemirror_mode": {
        "name": "ipython",
        "version": 3
      },
      "file_extension": ".py",
      "mimetype": "text/x-python",
      "name": "python",
      "nbconvert_exporter": "python",
      "pygments_lexer": "ipython3",
      "version": "3.11.9"
    }
  },
  "nbformat": 4,
  "nbformat_minor": 2
}
